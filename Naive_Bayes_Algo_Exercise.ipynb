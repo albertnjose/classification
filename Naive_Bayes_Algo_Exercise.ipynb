{
 "cells": [
  {
   "cell_type": "markdown",
   "metadata": {
    "deletable": true,
    "editable": true
   },
   "source": [
    "# Naive Bayes Algorithm\n",
    "\n",
    "Bayes’ Theorem provides a way that we can calculate the probability of a piece of data belonging to a given class, given our prior knowledge. Bayes’ Theorem is stated as\n",
    "\n",
    "$$P(class \\mid data) = \\frac{P(data \\mid class) \\, P(class)}{P(data)}$$\n",
    "\n",
    "Where $P(class \\mid data)$ is the probability of class given the provided data. Naive Bayes is a classification algorithm for binary (two-class) and multiclass classification problems. It is called Naive Bayes or idiot Bayes because the calculations of the probabilities for each class are simplified to make their calculations tractable.\n",
    "\n",
    "Rather than attempting to calculate the probabilities of each attribute value, they are assumed to be conditionally independent given the class value. This is a very strong assumption that is most unlikely in real data, i.e. that the attributes do not interact. Nevertheless, the approach performs surprisingly well on data where this assumption does not hold."
   ]
  },
  {
   "cell_type": "markdown",
   "metadata": {
    "deletable": true,
    "editable": true
   },
   "source": [
    "## Exercise 1 - Explore the Data\n",
    "\n",
    "The test problem we will be using is Iris classification. The problem is comprised of 150 observations of iris flowers from three different species. There are 4 measurements of given flowers: sepal length, sepal width, petal length and petal width, all in the same unit of centimeters. The predicted attribute is the species, which is one of setosa, versicolor or virginica.\n",
    "\n",
    "It is a standard dataset where the species is known for all instances. As such we can split the data into training and test datasets and use the results to evaluate our algorithm implementation. Good classification accuracy on this problem is above 90% correct, typically 96% or better.\n",
    "\n",
    "You can download the dataset for free from [UCI](https://archive.ics.uci.edu/ml/datasets/Iris), see the resources section for further details."
   ]
  },
  {
   "cell_type": "code",
   "execution_count": 92,
   "metadata": {
    "collapsed": false,
    "deletable": true,
    "editable": true
   },
   "outputs": [
    {
     "data": {
      "text/html": [
       "<div>\n",
       "<table border=\"1\" class=\"dataframe\">\n",
       "  <thead>\n",
       "    <tr style=\"text-align: right;\">\n",
       "      <th></th>\n",
       "      <th>sep_len</th>\n",
       "      <th>sep_wid</th>\n",
       "      <th>pet_len</th>\n",
       "      <th>pet_wid</th>\n",
       "      <th>class</th>\n",
       "    </tr>\n",
       "  </thead>\n",
       "  <tbody>\n",
       "    <tr>\n",
       "      <th>0</th>\n",
       "      <td>5.1</td>\n",
       "      <td>3.5</td>\n",
       "      <td>1.4</td>\n",
       "      <td>0.2</td>\n",
       "      <td>Iris-setosa</td>\n",
       "    </tr>\n",
       "    <tr>\n",
       "      <th>1</th>\n",
       "      <td>4.9</td>\n",
       "      <td>3.0</td>\n",
       "      <td>1.4</td>\n",
       "      <td>0.2</td>\n",
       "      <td>Iris-setosa</td>\n",
       "    </tr>\n",
       "    <tr>\n",
       "      <th>2</th>\n",
       "      <td>4.7</td>\n",
       "      <td>3.2</td>\n",
       "      <td>1.3</td>\n",
       "      <td>0.2</td>\n",
       "      <td>Iris-setosa</td>\n",
       "    </tr>\n",
       "    <tr>\n",
       "      <th>3</th>\n",
       "      <td>4.6</td>\n",
       "      <td>3.1</td>\n",
       "      <td>1.5</td>\n",
       "      <td>0.2</td>\n",
       "      <td>Iris-setosa</td>\n",
       "    </tr>\n",
       "    <tr>\n",
       "      <th>4</th>\n",
       "      <td>5.0</td>\n",
       "      <td>3.6</td>\n",
       "      <td>1.4</td>\n",
       "      <td>0.2</td>\n",
       "      <td>Iris-setosa</td>\n",
       "    </tr>\n",
       "  </tbody>\n",
       "</table>\n",
       "</div>"
      ],
      "text/plain": [
       "   sep_len  sep_wid  pet_len  pet_wid        class\n",
       "0      5.1      3.5      1.4      0.2  Iris-setosa\n",
       "1      4.9      3.0      1.4      0.2  Iris-setosa\n",
       "2      4.7      3.2      1.3      0.2  Iris-setosa\n",
       "3      4.6      3.1      1.5      0.2  Iris-setosa\n",
       "4      5.0      3.6      1.4      0.2  Iris-setosa"
      ]
     },
     "execution_count": 92,
     "metadata": {},
     "output_type": "execute_result"
    }
   ],
   "source": [
    "import pandas as pd\n",
    "import numpy as np\n",
    "import seaborn as sns\n",
    "import matplotlib.pyplot as plt\n",
    "%matplotlib inline\n",
    "\n",
    "iris = pd.read_csv('iris.data', header=None)\n",
    "iris.columns = ['sep_len', 'sep_wid', 'pet_len', 'pet_wid', 'class']\n",
    "iris.head()"
   ]
  },
  {
   "cell_type": "code",
   "execution_count": 93,
   "metadata": {
    "collapsed": false
   },
   "outputs": [],
   "source": [
    "from sklearn.preprocessing import LabelEncoder\n",
    "\n",
    "enc = LabelEncoder()\n",
    "enc.fit(iris['class'])\n",
    "iris['class'] = enc.transform(iris['class'])"
   ]
  },
  {
   "cell_type": "code",
   "execution_count": 94,
   "metadata": {
    "collapsed": false
   },
   "outputs": [
    {
     "data": {
      "text/html": [
       "<div>\n",
       "<table border=\"1\" class=\"dataframe\">\n",
       "  <thead>\n",
       "    <tr style=\"text-align: right;\">\n",
       "      <th></th>\n",
       "      <th>sep_len</th>\n",
       "      <th>sep_wid</th>\n",
       "      <th>pet_len</th>\n",
       "      <th>pet_wid</th>\n",
       "      <th>class</th>\n",
       "    </tr>\n",
       "  </thead>\n",
       "  <tbody>\n",
       "    <tr>\n",
       "      <th>0</th>\n",
       "      <td>5.1</td>\n",
       "      <td>3.5</td>\n",
       "      <td>1.4</td>\n",
       "      <td>0.2</td>\n",
       "      <td>0</td>\n",
       "    </tr>\n",
       "    <tr>\n",
       "      <th>1</th>\n",
       "      <td>4.9</td>\n",
       "      <td>3.0</td>\n",
       "      <td>1.4</td>\n",
       "      <td>0.2</td>\n",
       "      <td>0</td>\n",
       "    </tr>\n",
       "    <tr>\n",
       "      <th>2</th>\n",
       "      <td>4.7</td>\n",
       "      <td>3.2</td>\n",
       "      <td>1.3</td>\n",
       "      <td>0.2</td>\n",
       "      <td>0</td>\n",
       "    </tr>\n",
       "    <tr>\n",
       "      <th>3</th>\n",
       "      <td>4.6</td>\n",
       "      <td>3.1</td>\n",
       "      <td>1.5</td>\n",
       "      <td>0.2</td>\n",
       "      <td>0</td>\n",
       "    </tr>\n",
       "    <tr>\n",
       "      <th>4</th>\n",
       "      <td>5.0</td>\n",
       "      <td>3.6</td>\n",
       "      <td>1.4</td>\n",
       "      <td>0.2</td>\n",
       "      <td>0</td>\n",
       "    </tr>\n",
       "  </tbody>\n",
       "</table>\n",
       "</div>"
      ],
      "text/plain": [
       "   sep_len  sep_wid  pet_len  pet_wid  class\n",
       "0      5.1      3.5      1.4      0.2      0\n",
       "1      4.9      3.0      1.4      0.2      0\n",
       "2      4.7      3.2      1.3      0.2      0\n",
       "3      4.6      3.1      1.5      0.2      0\n",
       "4      5.0      3.6      1.4      0.2      0"
      ]
     },
     "execution_count": 94,
     "metadata": {},
     "output_type": "execute_result"
    }
   ],
   "source": [
    "iris.head()"
   ]
  },
  {
   "cell_type": "code",
   "execution_count": 107,
   "metadata": {
    "collapsed": false
   },
   "outputs": [
    {
     "data": {
      "text/html": [
       "<div>\n",
       "<table border=\"1\" class=\"dataframe\">\n",
       "  <thead>\n",
       "    <tr style=\"text-align: right;\">\n",
       "      <th></th>\n",
       "      <th>sep_len</th>\n",
       "      <th>sep_wid</th>\n",
       "      <th>pet_len</th>\n",
       "      <th>pet_wid</th>\n",
       "      <th>class</th>\n",
       "    </tr>\n",
       "  </thead>\n",
       "  <tbody>\n",
       "    <tr>\n",
       "      <th>count</th>\n",
       "      <td>150.000000</td>\n",
       "      <td>150.000000</td>\n",
       "      <td>150.000000</td>\n",
       "      <td>150.000000</td>\n",
       "      <td>150.000000</td>\n",
       "    </tr>\n",
       "    <tr>\n",
       "      <th>mean</th>\n",
       "      <td>5.843333</td>\n",
       "      <td>3.054000</td>\n",
       "      <td>3.758667</td>\n",
       "      <td>1.198667</td>\n",
       "      <td>1.000000</td>\n",
       "    </tr>\n",
       "    <tr>\n",
       "      <th>std</th>\n",
       "      <td>0.828066</td>\n",
       "      <td>0.433594</td>\n",
       "      <td>1.764420</td>\n",
       "      <td>0.763161</td>\n",
       "      <td>0.819232</td>\n",
       "    </tr>\n",
       "    <tr>\n",
       "      <th>min</th>\n",
       "      <td>4.300000</td>\n",
       "      <td>2.000000</td>\n",
       "      <td>1.000000</td>\n",
       "      <td>0.100000</td>\n",
       "      <td>0.000000</td>\n",
       "    </tr>\n",
       "    <tr>\n",
       "      <th>25%</th>\n",
       "      <td>5.100000</td>\n",
       "      <td>2.800000</td>\n",
       "      <td>1.600000</td>\n",
       "      <td>0.300000</td>\n",
       "      <td>0.000000</td>\n",
       "    </tr>\n",
       "    <tr>\n",
       "      <th>50%</th>\n",
       "      <td>5.800000</td>\n",
       "      <td>3.000000</td>\n",
       "      <td>4.350000</td>\n",
       "      <td>1.300000</td>\n",
       "      <td>1.000000</td>\n",
       "    </tr>\n",
       "    <tr>\n",
       "      <th>75%</th>\n",
       "      <td>6.400000</td>\n",
       "      <td>3.300000</td>\n",
       "      <td>5.100000</td>\n",
       "      <td>1.800000</td>\n",
       "      <td>2.000000</td>\n",
       "    </tr>\n",
       "    <tr>\n",
       "      <th>max</th>\n",
       "      <td>7.900000</td>\n",
       "      <td>4.400000</td>\n",
       "      <td>6.900000</td>\n",
       "      <td>2.500000</td>\n",
       "      <td>2.000000</td>\n",
       "    </tr>\n",
       "  </tbody>\n",
       "</table>\n",
       "</div>"
      ],
      "text/plain": [
       "          sep_len     sep_wid     pet_len     pet_wid       class\n",
       "count  150.000000  150.000000  150.000000  150.000000  150.000000\n",
       "mean     5.843333    3.054000    3.758667    1.198667    1.000000\n",
       "std      0.828066    0.433594    1.764420    0.763161    0.819232\n",
       "min      4.300000    2.000000    1.000000    0.100000    0.000000\n",
       "25%      5.100000    2.800000    1.600000    0.300000    0.000000\n",
       "50%      5.800000    3.000000    4.350000    1.300000    1.000000\n",
       "75%      6.400000    3.300000    5.100000    1.800000    2.000000\n",
       "max      7.900000    4.400000    6.900000    2.500000    2.000000"
      ]
     },
     "execution_count": 107,
     "metadata": {},
     "output_type": "execute_result"
    }
   ],
   "source": [
    "iris.describe()"
   ]
  },
  {
   "cell_type": "code",
   "execution_count": 95,
   "metadata": {
    "collapsed": false
   },
   "outputs": [
    {
     "data": {
      "image/png": "[encoded data removed]",
      "text/plain": [
       "<matplotlib.figure.Figure at 0x11aa8ffd0>"
      ]
     },
     "metadata": {},
     "output_type": "display_data"
    }
   ],
   "source": [
    "from pandas.tools.plotting import scatter_matrix\n",
    "\n",
    "scatter_matrix(iris, figsize=(12,12));"
   ]
  },
  {
   "cell_type": "code",
   "execution_count": 96,
   "metadata": {
    "collapsed": false
   },
   "outputs": [
    {
     "data": {
      "text/html": [
       "<div>\n",
       "<table border=\"1\" class=\"dataframe\">\n",
       "  <thead>\n",
       "    <tr style=\"text-align: right;\">\n",
       "      <th></th>\n",
       "      <th>sep_len</th>\n",
       "      <th>sep_wid</th>\n",
       "      <th>pet_len</th>\n",
       "      <th>pet_wid</th>\n",
       "      <th>class</th>\n",
       "    </tr>\n",
       "  </thead>\n",
       "  <tbody>\n",
       "    <tr>\n",
       "      <th>sep_len</th>\n",
       "      <td>1.000000</td>\n",
       "      <td>-0.109369</td>\n",
       "      <td>0.871754</td>\n",
       "      <td>0.817954</td>\n",
       "      <td>0.782561</td>\n",
       "    </tr>\n",
       "    <tr>\n",
       "      <th>sep_wid</th>\n",
       "      <td>-0.109369</td>\n",
       "      <td>1.000000</td>\n",
       "      <td>-0.420516</td>\n",
       "      <td>-0.356544</td>\n",
       "      <td>-0.419446</td>\n",
       "    </tr>\n",
       "    <tr>\n",
       "      <th>pet_len</th>\n",
       "      <td>0.871754</td>\n",
       "      <td>-0.420516</td>\n",
       "      <td>1.000000</td>\n",
       "      <td>0.962757</td>\n",
       "      <td>0.949043</td>\n",
       "    </tr>\n",
       "    <tr>\n",
       "      <th>pet_wid</th>\n",
       "      <td>0.817954</td>\n",
       "      <td>-0.356544</td>\n",
       "      <td>0.962757</td>\n",
       "      <td>1.000000</td>\n",
       "      <td>0.956464</td>\n",
       "    </tr>\n",
       "    <tr>\n",
       "      <th>class</th>\n",
       "      <td>0.782561</td>\n",
       "      <td>-0.419446</td>\n",
       "      <td>0.949043</td>\n",
       "      <td>0.956464</td>\n",
       "      <td>1.000000</td>\n",
       "    </tr>\n",
       "  </tbody>\n",
       "</table>\n",
       "</div>"
      ],
      "text/plain": [
       "          sep_len   sep_wid   pet_len   pet_wid     class\n",
       "sep_len  1.000000 -0.109369  0.871754  0.817954  0.782561\n",
       "sep_wid -0.109369  1.000000 -0.420516 -0.356544 -0.419446\n",
       "pet_len  0.871754 -0.420516  1.000000  0.962757  0.949043\n",
       "pet_wid  0.817954 -0.356544  0.962757  1.000000  0.956464\n",
       "class    0.782561 -0.419446  0.949043  0.956464  1.000000"
      ]
     },
     "execution_count": 96,
     "metadata": {},
     "output_type": "execute_result"
    }
   ],
   "source": [
    "iris.corr()"
   ]
  },
  {
   "cell_type": "markdown",
   "metadata": {},
   "source": [
    "High correlations between sepal length and petal length, sepal length and petal width, and petal length and petal width. Negative correlations between sepal width and the other features."
   ]
  },
  {
   "cell_type": "markdown",
   "metadata": {
    "deletable": true,
    "editable": true
   },
   "source": [
    "## Exercise 2 - Build a NaiveBayes Class\n",
    "\n",
    "The derivation can be [found here on Wikipedia](https://en.wikipedia.org/wiki/Naive_Bayes_classifier).\n",
    "\n",
    "The general steps are:\n",
    "1. Separate By Class\n",
    "2. Summarize Dataset\n",
    "3. Summarize Data By Class\n",
    "4. Generate Gaussian Probability Density Function\n",
    "5. Class Probabilities"
   ]
  },
  {
   "cell_type": "code",
   "execution_count": 97,
   "metadata": {
    "collapsed": true,
    "deletable": true,
    "editable": true
   },
   "outputs": [],
   "source": [
    "class GaussianNB_(object):\n",
    "    def __init__(self):\n",
    "        pass\n",
    "    \n",
    "    def fit(self, X, y):\n",
    "        # group training data by class\n",
    "        separated = [[x for x, t in zip(X, y) if t == c] for c in np.unique(y)]\n",
    "        # obtain standard deviation and mean, 4 features and 3 classes\n",
    "        # np.c_ is similar to zip\n",
    "        self.model = np.array([np.c_[np.mean(i, axis=0), np.std(i, axis=0)] for i in separated])\n",
    "        \n",
    "        return self\n",
    "    \n",
    "    def _prob(self, x, mean, std):\n",
    "        exponent = np.exp(- ((x - mean) ** 2 / (2 * std ** 2))) # Gaussian distribution\n",
    "        return np.log(exponent / (np.sqrt(2 * np.pi) * std)) # log Gaussian\n",
    "    \n",
    "    # obtain log probability of each class\n",
    "    def predict_log_proba(self, X):\n",
    "        # x for X loops through each sample\n",
    "        # second loop for each class\n",
    "        # third loop for each attribute and apply Gaussian dist. *s to unpack array of mean and std.\n",
    "        return [[sum(self._prob(i, *s) for s, i in zip(summaries, x)) for summaries in self.model] for x in X]\n",
    "    \n",
    "    # call log probability function and pick maximum value\n",
    "    def predict(self, X):\n",
    "        return np.argmax(self.predict_log_proba(X), axis=1)\n",
    "    \n",
    "    def score(self, X, y):\n",
    "        return sum(self.predict(X) == y) / len(y)"
   ]
  },
  {
   "cell_type": "markdown",
   "metadata": {
    "deletable": true,
    "editable": true
   },
   "source": [
    "## Exercise 3 - Try it out on the Iris Dataset. "
   ]
  },
  {
   "cell_type": "code",
   "execution_count": 98,
   "metadata": {
    "collapsed": false,
    "deletable": true,
    "editable": true
   },
   "outputs": [],
   "source": [
    "from sklearn.cross_validation import train_test_split\n",
    "\n",
    "trainSet, testSet = train_test_split(iris, test_size=0.25)"
   ]
  },
  {
   "cell_type": "code",
   "execution_count": 99,
   "metadata": {
    "collapsed": true
   },
   "outputs": [],
   "source": [
    "trainData = pd.DataFrame.as_matrix(trainSet[['sep_len', 'sep_wid', 'pet_len', 'pet_wid']])\n",
    "trainTarget = pd.DataFrame.as_matrix(trainSet['class'])\n",
    "testData = pd.DataFrame.as_matrix(testSet[['sep_len', 'sep_wid', 'pet_len', 'pet_wid']])\n",
    "testTarget = pd.DataFrame.as_matrix(testSet['class'])"
   ]
  },
  {
   "cell_type": "code",
   "execution_count": 100,
   "metadata": {
    "collapsed": false
   },
   "outputs": [],
   "source": [
    "nb = GaussianNB_().fit(trainData, trainTarget)"
   ]
  },
  {
   "cell_type": "code",
   "execution_count": 114,
   "metadata": {
    "collapsed": false
   },
   "outputs": [
    {
     "data": {
      "text/plain": [
       "[[array([ 4.9,  3. ,  1.4,  0.2]),\n",
       "  array([ 4.6,  3.1,  1.5,  0.2]),\n",
       "  array([ 5.4,  3.9,  1.7,  0.4]),\n",
       "  array([ 5.4,  3.7,  1.5,  0.2]),\n",
       "  array([ 4.8,  3.4,  1.6,  0.2]),\n",
       "  array([ 4.3,  3. ,  1.1,  0.1]),\n",
       "  array([ 5.8,  4. ,  1.2,  0.2]),\n",
       "  array([ 5.4,  3.9,  1.3,  0.4]),\n",
       "  array([ 4.8,  3.4,  1.9,  0.2]),\n",
       "  array([ 5.2,  3.4,  1.4,  0.2]),\n",
       "  array([ 4.8,  3.1,  1.6,  0.2]),\n",
       "  array([ 5.5,  4.2,  1.4,  0.2]),\n",
       "  array([ 4.9,  3.1,  1.5,  0.1]),\n",
       "  array([ 4.5,  2.3,  1.3,  0.3]),\n",
       "  array([ 5. ,  3.3,  1.4,  0.2]),\n",
       "  array([ 7. ,  3.2,  4.7,  1.4]),\n",
       "  array([ 4.9,  2.4,  3.3,  1. ]),\n",
       "  array([ 6. ,  2.2,  4. ,  1. ]),\n",
       "  array([ 5.6,  2.9,  3.6,  1.3]),\n",
       "  array([ 6.7,  3.1,  4.4,  1.4]),\n",
       "  array([ 5.6,  3. ,  4.5,  1.5]),\n",
       "  array([ 5.8,  2.7,  4.1,  1. ]),\n",
       "  array([ 5.6,  2.5,  3.9,  1.1]),\n",
       "  array([ 6.8,  2.8,  4.8,  1.4]),\n",
       "  array([ 5.5,  2.4,  3.7,  1. ]),\n",
       "  array([ 5.4,  3. ,  4.5,  1.5]),\n",
       "  array([ 6.1,  3. ,  4.6,  1.4]),\n",
       "  array([ 5.8,  2.6,  4. ,  1.2]),\n",
       "  array([ 6.2,  2.9,  4.3,  1.3]),\n",
       "  array([ 6.3,  3.3,  6. ,  2.5]),\n",
       "  array([ 7.6,  3. ,  6.6,  2.1]),\n",
       "  array([ 4.9,  2.5,  4.5,  1.7]),\n",
       "  array([ 6.5,  3.2,  5.1,  2. ])],\n",
       " [array([ 4.7,  3.2,  1.3,  0.2]),\n",
       "  array([ 5. ,  3.6,  1.4,  0.2]),\n",
       "  array([ 4.6,  3.4,  1.4,  0.3]),\n",
       "  array([ 4.8,  3. ,  1.4,  0.1]),\n",
       "  array([ 5.1,  3.5,  1.4,  0.3]),\n",
       "  array([ 5.4,  3.4,  1.7,  0.2]),\n",
       "  array([ 5.1,  3.3,  1.7,  0.5]),\n",
       "  array([ 5. ,  3. ,  1.6,  0.2]),\n",
       "  array([ 5. ,  3.4,  1.6,  0.4]),\n",
       "  array([ 4.7,  3.2,  1.6,  0.2]),\n",
       "  array([ 5.4,  3.4,  1.5,  0.4]),\n",
       "  array([ 5.5,  3.5,  1.3,  0.2]),\n",
       "  array([ 4.4,  3. ,  1.3,  0.2]),\n",
       "  array([ 5. ,  3.5,  1.3,  0.3]),\n",
       "  array([ 4.4,  3.2,  1.3,  0.2]),\n",
       "  array([ 4.8,  3. ,  1.4,  0.3]),\n",
       "  array([ 4.6,  3.2,  1.4,  0.2]),\n",
       "  array([ 6.9,  3.1,  4.9,  1.5]),\n",
       "  array([ 5.5,  2.3,  4. ,  1.3]),\n",
       "  array([ 6.5,  2.8,  4.6,  1.5]),\n",
       "  array([ 5.2,  2.7,  3.9,  1.4]),\n",
       "  array([ 5. ,  2. ,  3.5,  1. ]),\n",
       "  array([ 5.9,  3. ,  4.2,  1.5]),\n",
       "  array([ 6.2,  2.2,  4.5,  1.5]),\n",
       "  array([ 6.1,  2.8,  4. ,  1.3]),\n",
       "  array([ 6.4,  2.9,  4.3,  1.3]),\n",
       "  array([ 6. ,  2.9,  4.5,  1.5]),\n",
       "  array([ 5.7,  2.6,  3.5,  1. ]),\n",
       "  array([ 5.8,  2.7,  3.9,  1.2]),\n",
       "  array([ 6. ,  3.4,  4.5,  1.6]),\n",
       "  array([ 6.7,  3.1,  4.7,  1.5]),\n",
       "  array([ 6.3,  2.3,  4.4,  1.3]),\n",
       "  array([ 5.5,  2.5,  4. ,  1.3]),\n",
       "  array([ 5. ,  2.3,  3.3,  1. ]),\n",
       "  array([ 5.7,  2.8,  4.1,  1.3]),\n",
       "  array([ 5.8,  2.7,  5.1,  1.9]),\n",
       "  array([ 7.1,  3. ,  5.9,  2.1]),\n",
       "  array([ 6.5,  3. ,  5.8,  2.2]),\n",
       "  array([ 7.3,  2.9,  6.3,  1.8]),\n",
       "  array([ 7.2,  3.6,  6.1,  2.5])],\n",
       " [array([ 5.1,  3.5,  1.4,  0.2]),\n",
       "  array([ 5. ,  3.4,  1.5,  0.2]),\n",
       "  array([ 4.4,  2.9,  1.4,  0.2]),\n",
       "  array([ 4.9,  3.1,  1.5,  0.1]),\n",
       "  array([ 5.7,  4.4,  1.5,  0.4]),\n",
       "  array([ 5.7,  3.8,  1.7,  0.3]),\n",
       "  array([ 5.1,  3.8,  1.5,  0.3]),\n",
       "  array([ 5.1,  3.7,  1.5,  0.4]),\n",
       "  array([ 4.6,  3.6,  1. ,  0.2]),\n",
       "  array([ 5.2,  3.5,  1.5,  0.2]),\n",
       "  array([ 5.2,  4.1,  1.5,  0.1]),\n",
       "  array([ 5. ,  3.2,  1.2,  0.2]),\n",
       "  array([ 4.9,  3.1,  1.5,  0.1]),\n",
       "  array([ 5.1,  3.4,  1.5,  0.2]),\n",
       "  array([ 5. ,  3.5,  1.6,  0.6]),\n",
       "  array([ 5.1,  3.8,  1.9,  0.4]),\n",
       "  array([ 5.1,  3.8,  1.6,  0.2]),\n",
       "  array([ 5.3,  3.7,  1.5,  0.2]),\n",
       "  array([ 6.4,  3.2,  4.5,  1.5]),\n",
       "  array([ 5.7,  2.8,  4.5,  1.3]),\n",
       "  array([ 6.3,  3.3,  4.7,  1.6]),\n",
       "  array([ 6.6,  2.9,  4.6,  1.3]),\n",
       "  array([ 6.1,  2.9,  4.7,  1.4]),\n",
       "  array([ 5.9,  3.2,  4.8,  1.8]),\n",
       "  array([ 6.3,  2.5,  4.9,  1.5]),\n",
       "  array([ 6.1,  2.8,  4.7,  1.2]),\n",
       "  array([ 6.6,  3. ,  4.4,  1.4]),\n",
       "  array([ 6.7,  3. ,  5. ,  1.7]),\n",
       "  array([ 5.5,  2.4,  3.8,  1.1]),\n",
       "  array([ 6. ,  2.7,  5.1,  1.6]),\n",
       "  array([ 5.6,  3. ,  4.1,  1.3]),\n",
       "  array([ 5.5,  2.6,  4.4,  1.2]),\n",
       "  array([ 5.6,  2.7,  4.2,  1.3]),\n",
       "  array([ 5.7,  3. ,  4.2,  1.2]),\n",
       "  array([ 5.7,  2.9,  4.2,  1.3]),\n",
       "  array([ 5.1,  2.5,  3. ,  1.1]),\n",
       "  array([ 6.3,  2.9,  5.6,  1.8]),\n",
       "  array([ 6.7,  2.5,  5.8,  1.8]),\n",
       "  array([ 6.4,  2.7,  5.3,  1.9])]]"
      ]
     },
     "execution_count": 114,
     "metadata": {},
     "output_type": "execute_result"
    }
   ],
   "source": [
    "def separated(x, y):\n",
    "    sep = [[x for x, t in zip(X, y) if t == c] for c in np.unique(y)]\n",
    "    \n",
    "    return sep\n",
    "\n",
    "sep = separated(trainData, trainTarget)\n",
    "sep"
   ]
  },
  {
   "cell_type": "code",
   "execution_count": 130,
   "metadata": {
    "collapsed": false
   },
   "outputs": [
    {
     "data": {
      "text/plain": [
       "array([[[ 5.56363636,  0.76349205],\n",
       "        [ 3.07575758,  0.48619132],\n",
       "        [ 3.1030303 ,  1.61910653],\n",
       "        [ 0.88181818,  0.67619907]],\n",
       "\n",
       "       [[ 5.595     ,  0.79339461],\n",
       "        [ 2.985     ,  0.40221263],\n",
       "        [ 3.215     ,  1.64279487],\n",
       "        [ 0.9725    ,  0.6785969 ]],\n",
       "\n",
       "       [[ 5.5974359 ,  0.61289024],\n",
       "        [ 3.17435897,  0.47648174],\n",
       "        [ 3.16153846,  1.61429756],\n",
       "        [ 0.89230769,  0.62650214]]])"
      ]
     },
     "execution_count": 130,
     "metadata": {},
     "output_type": "execute_result"
    }
   ],
   "source": [
    "model = np.array([np.c_[np.mean(i, axis=0), np.std(i, axis=0)] for i in sep])\n",
    "model"
   ]
  },
  {
   "cell_type": "code",
   "execution_count": 101,
   "metadata": {
    "collapsed": false
   },
   "outputs": [
    {
     "name": "stdout",
     "output_type": "stream",
     "text": [
      "0.946428571429\n",
      "1.0\n"
     ]
    }
   ],
   "source": [
    "print(nb.score(trainData, trainTarget))\n",
    "print(nb.score(testData, testTarget))"
   ]
  },
  {
   "cell_type": "markdown",
   "metadata": {
    "deletable": true,
    "editable": true
   },
   "source": [
    "## Exercise 4 - Check via Statsmodels or Scikit-learn"
   ]
  },
  {
   "cell_type": "code",
   "execution_count": 102,
   "metadata": {
    "collapsed": false,
    "deletable": true,
    "editable": true
   },
   "outputs": [
    {
     "name": "stdout",
     "output_type": "stream",
     "text": [
      "0.946428571429\n",
      "1.0\n"
     ]
    }
   ],
   "source": [
    "from sklearn.naive_bayes import GaussianNB\n",
    "\n",
    "classifier = GaussianNB()\n",
    "\n",
    "classifier.fit(trainData, trainTarget)\n",
    "print(classifier.score(trainData, trainTarget))\n",
    "print(classifier.score(testData, testTarget))"
   ]
  },
  {
   "cell_type": "markdown",
   "metadata": {},
   "source": [
    "Received the same exact output as sklearn."
   ]
  },
  {
   "cell_type": "markdown",
   "metadata": {
    "deletable": true,
    "editable": true
   },
   "source": [
    "# Additional Optional Exercises\n",
    "\n",
    "- Proper documentation for class methods and attributes\n",
    "- Build with NumPy methods and compare computation time\n",
    "- Calculate class probabilities as a ratio\n",
    "- Take the log probabilities\n",
    "- Update the implementation to support nominal attributes\n",
    "- Utilize a different density function instead of Gaussian (ie. Multinomial, Bernoulli, Kernel)"
   ]
  },
  {
   "cell_type": "code",
   "execution_count": null,
   "metadata": {
    "collapsed": true,
    "deletable": true,
    "editable": true
   },
   "outputs": [],
   "source": []
  }
 ],
 "metadata": {
  "anaconda-cloud": {},
  "kernelspec": {
   "display_name": "Python 3",
   "language": "python",
   "name": "python3"
  },
  "language_info": {
   "codemirror_mode": {
    "name": "ipython",
    "version": 3
   },
   "file_extension": ".py",
   "mimetype": "text/x-python",
   "name": "python",
   "nbconvert_exporter": "python",
   "pygments_lexer": "ipython3",
   "version": "3.5.3"
  }
 },
 "nbformat": 4,
 "nbformat_minor": 1
}
